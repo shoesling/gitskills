{
 "cells": [
  {
   "cell_type": "code",
   "execution_count": 2,
   "metadata": {},
   "outputs": [],
   "source": [
    "import pandas as pd\n",
    "import numpy as np\n",
    "import lightgbm as lgb\n",
    "import matplotlib.pyplot as plt"
   ]
  },
  {
   "cell_type": "code",
   "execution_count": 74,
   "metadata": {},
   "outputs": [],
   "source": [
    "#读取数据\n",
    "df=pd.read_csv('./NI.csv',index_col=1)\n",
    "df=df.drop(['ticker'],axis=1)\n",
    "pd.set_option('display.max_rows',10)"
   ]
  },
  {
   "cell_type": "code",
   "execution_count": 76,
   "metadata": {},
   "outputs": [],
   "source": [
    "#数据预处理\n",
    "df['pct_chg_future']=df['pct_chg'].shift(-1)\n",
    "df.loc[df['PVC'].isnull(),['PVC']]=0.\n",
    "\n",
    "#tech index\n",
    "df['MA10']=df['pct_chg'].rolling(10).mean()\n",
    "df['MA20']=df['pct_chg'].rolling(20).mean()\n",
    "df['MA60']=df['pct_chg'].rolling(60).mean()\n",
    "df['abs_pct']=abs(df['pct_chg'])\n",
    "df['ave_gain']=(df['abs_pct']+df['pct_chg']).rolling(60).mean()/2\n",
    "df['ave_loss']=(df['abs_pct']-df['pct_chg']).rolling(60).mean()/2\n",
    "df['RSI']=100-100/(1+df['ave_gain']/df['ave_loss'])\n",
    "\n",
    "# 加入过去features\n",
    "for i in range (4):\n",
    "    df['L'+str(i+1)+'_open']=df['open'].shift(i+1)\n",
    "    df['L'+str(i+1)+'_high']=df['high'].shift(i+1)\n",
    "    df['L'+str(i+1)+'_low']=df['low'].shift(i+1)\n",
    "    df['L'+str(i+1)+'_close']=df['close'].shift(i+1)\n",
    "    df['L'+str(i+1)+'_volume']=df['volume'].shift(i+1)\n",
    "    df['L'+str(i+1)+'_amt']=df['amt'].shift(i+1)\n",
    "    df['L'+str(i+1)+'_pct_chg']=df['pct_chg'].shift(i+1)\n",
    "for i in range (1):\n",
    "    df['L'+str(i+1)+'_PVC']=df['PVC'].shift(i+1)\n",
    "    df['L'+str(i+1)+'_SKW']=df['SKW'].shift(i+1)\n",
    "    df['L'+str(i+1)+'_KTS']=df['KTS'].shift(i+1)\n",
    "    df['L'+str(i+1)+'_SGH']=df['SGH'].shift(i+1)\n",
    "    df['L'+str(i+1)+'_SR']=df['SR'].shift(i+1)\n",
    "    df['L'+str(i+1)+'_VOL']=df['VOL'].shift(i+1)\n",
    "    df['L'+str(i+1)+'_CSHSKW']=df['CSHSKW'].shift(i+1)\n",
    "    df['L'+str(i+1)+'_CSHKTS']=df['CSHKTS'].shift(i+1)\n",
    "    \n",
    "df['F_low']=df['low'].shift(-1)\n",
    "df['F_high']=df['high'].shift(-1)\n",
    "df=df.dropna(axis='rows')\n",
    "df=df.drop(['abs_pct','ave_gain','ave_loss'],axis=1)"
   ]
  },
  {
   "cell_type": "code",
   "execution_count": 77,
   "metadata": {},
   "outputs": [
    {
     "data": {
      "text/plain": [
       "Index(['open', 'high', 'low', 'close', 'volume', 'amt', 'pct_chg', 'PVC',\n",
       "       'SKW', 'KTS', 'SGH', 'SR', 'VOL', 'CSHSKW', 'CSHKTS', 'pct_chg_future',\n",
       "       'MA10', 'MA20', 'MA60', 'RSI', 'L1_open', 'L1_high', 'L1_low',\n",
       "       'L1_close', 'L1_volume', 'L1_amt', 'L1_pct_chg', 'L2_open', 'L2_high',\n",
       "       'L2_low', 'L2_close', 'L2_volume', 'L2_amt', 'L2_pct_chg', 'L3_open',\n",
       "       'L3_high', 'L3_low', 'L3_close', 'L3_volume', 'L3_amt', 'L3_pct_chg',\n",
       "       'L4_open', 'L4_high', 'L4_low', 'L4_close', 'L4_volume', 'L4_amt',\n",
       "       'L4_pct_chg', 'L1_PVC', 'L1_SKW', 'L1_KTS', 'L1_SGH', 'L1_SR', 'L1_VOL',\n",
       "       'L1_CSHSKW', 'L1_CSHKTS', 'F_low', 'F_high'],\n",
       "      dtype='object')"
      ]
     },
     "execution_count": 77,
     "metadata": {},
     "output_type": "execute_result"
    }
   ],
   "source": [
    "df.to_pickle('./raw_data_reg.pkl')\n",
    "df.columns"
   ]
  },
  {
   "cell_type": "code",
   "execution_count": 78,
   "metadata": {},
   "outputs": [],
   "source": [
    "df=pd.read_pickle('./raw_data_reg.pkl')"
   ]
  },
  {
   "cell_type": "code",
   "execution_count": 79,
   "metadata": {},
   "outputs": [],
   "source": [
    "# #参数标准化\n",
    "# df_array=np.array(df[['open', 'high', 'low', 'close', 'volume', 'amt', 'pct_chg', 'PVC',\n",
    "#        'SKW', 'KTS', 'SGH', 'SR', 'VOL', 'CSHSKW', 'CSHKTS', \n",
    "#        'pct_chg_lag1', 'pct_chg_lag2', 'pct_chg_lag3', 'L_open', 'L_high',\n",
    "#        'L_low', 'L_close', 'L_volume', 'L_amt', 'L_PVC', 'L_SKW', 'L_KTS',\n",
    "#        'L_SGH', 'L_SR', 'L_VOL', 'L_CSHSKW', 'L_CSHKTS']])\n",
    "# df_array=df_array/df_array.std(axis=0,keepdims=True)\n",
    "# df[['open', 'high', 'low', 'close', 'volume', 'amt', 'pct_chg', 'PVC',\n",
    "#        'SKW', 'KTS', 'SGH', 'SR', 'VOL', 'CSHSKW', 'CSHKTS', \n",
    "#        'pct_chg_lag1', 'pct_chg_lag2', 'pct_chg_lag3', 'L_open', 'L_high',\n",
    "#        'L_low', 'L_close', 'L_volume', 'L_amt', 'L_PVC', 'L_SKW', 'L_KTS',\n",
    "#        'L_SGH', 'L_SR', 'L_VOL', 'L_CSHSKW', 'L_CSHKTS']]=df_array\n",
    "# df"
   ]
  },
  {
   "cell_type": "code",
   "execution_count": 80,
   "metadata": {},
   "outputs": [
    {
     "data": {
      "text/html": [
       "<div>\n",
       "<style scoped>\n",
       "    .dataframe tbody tr th:only-of-type {\n",
       "        vertical-align: middle;\n",
       "    }\n",
       "\n",
       "    .dataframe tbody tr th {\n",
       "        vertical-align: top;\n",
       "    }\n",
       "\n",
       "    .dataframe thead th {\n",
       "        text-align: right;\n",
       "    }\n",
       "</style>\n",
       "<table border=\"1\" class=\"dataframe\">\n",
       "  <thead>\n",
       "    <tr style=\"text-align: right;\">\n",
       "      <th></th>\n",
       "      <th>pct_chg</th>\n",
       "      <th>pct_chg_future</th>\n",
       "    </tr>\n",
       "    <tr>\n",
       "      <th>TimeStamp</th>\n",
       "      <th></th>\n",
       "      <th></th>\n",
       "    </tr>\n",
       "  </thead>\n",
       "  <tbody>\n",
       "    <tr>\n",
       "      <th>2017-01-05 00:30:00</th>\n",
       "      <td>0.000816</td>\n",
       "      <td>0.000233</td>\n",
       "    </tr>\n",
       "    <tr>\n",
       "      <th>2017-01-05 00:45:00</th>\n",
       "      <td>0.000233</td>\n",
       "      <td>-0.000466</td>\n",
       "    </tr>\n",
       "    <tr>\n",
       "      <th>2017-01-05 01:00:00</th>\n",
       "      <td>-0.000466</td>\n",
       "      <td>-0.001864</td>\n",
       "    </tr>\n",
       "    <tr>\n",
       "      <th>2017-01-05 09:15:00</th>\n",
       "      <td>-0.001864</td>\n",
       "      <td>-0.001167</td>\n",
       "    </tr>\n",
       "    <tr>\n",
       "      <th>2017-01-05 09:30:00</th>\n",
       "      <td>-0.001167</td>\n",
       "      <td>-0.001052</td>\n",
       "    </tr>\n",
       "    <tr>\n",
       "      <th>...</th>\n",
       "      <td>...</td>\n",
       "      <td>...</td>\n",
       "    </tr>\n",
       "    <tr>\n",
       "      <th>2019-03-29 23:45:00</th>\n",
       "      <td>0.000000</td>\n",
       "      <td>0.000099</td>\n",
       "    </tr>\n",
       "    <tr>\n",
       "      <th>2019-03-30 00:00:00</th>\n",
       "      <td>0.000099</td>\n",
       "      <td>-0.000395</td>\n",
       "    </tr>\n",
       "    <tr>\n",
       "      <th>2019-03-30 00:15:00</th>\n",
       "      <td>-0.000395</td>\n",
       "      <td>0.000988</td>\n",
       "    </tr>\n",
       "    <tr>\n",
       "      <th>2019-03-30 00:30:00</th>\n",
       "      <td>0.000988</td>\n",
       "      <td>-0.000592</td>\n",
       "    </tr>\n",
       "    <tr>\n",
       "      <th>2019-03-30 00:45:00</th>\n",
       "      <td>-0.000592</td>\n",
       "      <td>-0.004541</td>\n",
       "    </tr>\n",
       "  </tbody>\n",
       "</table>\n",
       "<p>16618 rows × 2 columns</p>\n",
       "</div>"
      ],
      "text/plain": [
       "                      pct_chg  pct_chg_future\n",
       "TimeStamp                                    \n",
       "2017-01-05 00:30:00  0.000816        0.000233\n",
       "2017-01-05 00:45:00  0.000233       -0.000466\n",
       "2017-01-05 01:00:00 -0.000466       -0.001864\n",
       "2017-01-05 09:15:00 -0.001864       -0.001167\n",
       "2017-01-05 09:30:00 -0.001167       -0.001052\n",
       "...                       ...             ...\n",
       "2019-03-29 23:45:00  0.000000        0.000099\n",
       "2019-03-30 00:00:00  0.000099       -0.000395\n",
       "2019-03-30 00:15:00 -0.000395        0.000988\n",
       "2019-03-30 00:30:00  0.000988       -0.000592\n",
       "2019-03-30 00:45:00 -0.000592       -0.004541\n",
       "\n",
       "[16618 rows x 2 columns]"
      ]
     },
     "execution_count": 80,
     "metadata": {},
     "output_type": "execute_result"
    }
   ],
   "source": [
    "df[['pct_chg','pct_chg_future']]"
   ]
  },
  {
   "cell_type": "code",
   "execution_count": 81,
   "metadata": {},
   "outputs": [
    {
     "data": {
      "image/png": "[encoded data removed]",
      "text/plain": [
       "<Figure size 1296x576 with 1 Axes>"
      ]
     },
     "metadata": {
      "needs_background": "light"
     },
     "output_type": "display_data"
    }
   ],
   "source": [
    "plt.figure(figsize=(18,8))\n",
    "plt.hist(df['pct_chg_future'],200)\n",
    "plt.xlim([-0.02,0.02])\n",
    "plt.show()"
   ]
  },
  {
   "cell_type": "code",
   "execution_count": 82,
   "metadata": {},
   "outputs": [],
   "source": [
    "#训练集\n",
    "test_num=12000\n",
    "train_data=lgb.Dataset(df.iloc[:test_num].drop(['pct_chg_future','F_low','F_high'],axis=1),\n",
    "                       label=df.iloc[:test_num]['pct_chg_future'],free_raw_data=False)#categorical_feature=['**']"
   ]
  },
  {
   "cell_type": "code",
   "execution_count": 83,
   "metadata": {},
   "outputs": [
    {
     "data": {
      "text/html": [
       "<div>\n",
       "<style scoped>\n",
       "    .dataframe tbody tr th:only-of-type {\n",
       "        vertical-align: middle;\n",
       "    }\n",
       "\n",
       "    .dataframe tbody tr th {\n",
       "        vertical-align: top;\n",
       "    }\n",
       "\n",
       "    .dataframe thead th {\n",
       "        text-align: right;\n",
       "    }\n",
       "</style>\n",
       "<table border=\"1\" class=\"dataframe\">\n",
       "  <thead>\n",
       "    <tr style=\"text-align: right;\">\n",
       "      <th></th>\n",
       "      <th>pct_chg_future</th>\n",
       "    </tr>\n",
       "    <tr>\n",
       "      <th>TimeStamp</th>\n",
       "      <th></th>\n",
       "    </tr>\n",
       "  </thead>\n",
       "  <tbody>\n",
       "    <tr>\n",
       "      <th>2018-08-14 23:00:00</th>\n",
       "      <td>-0.001073</td>\n",
       "    </tr>\n",
       "    <tr>\n",
       "      <th>2018-08-14 23:15:00</th>\n",
       "      <td>0.001611</td>\n",
       "    </tr>\n",
       "    <tr>\n",
       "      <th>2018-08-14 23:30:00</th>\n",
       "      <td>-0.001251</td>\n",
       "    </tr>\n",
       "    <tr>\n",
       "      <th>2018-08-14 23:45:00</th>\n",
       "      <td>-0.002147</td>\n",
       "    </tr>\n",
       "    <tr>\n",
       "      <th>2018-08-15 00:00:00</th>\n",
       "      <td>-0.000448</td>\n",
       "    </tr>\n",
       "  </tbody>\n",
       "</table>\n",
       "</div>"
      ],
      "text/plain": [
       "                     pct_chg_future\n",
       "TimeStamp                          \n",
       "2018-08-14 23:00:00       -0.001073\n",
       "2018-08-14 23:15:00        0.001611\n",
       "2018-08-14 23:30:00       -0.001251\n",
       "2018-08-14 23:45:00       -0.002147\n",
       "2018-08-15 00:00:00       -0.000448"
      ]
     },
     "execution_count": 83,
     "metadata": {},
     "output_type": "execute_result"
    }
   ],
   "source": [
    "#测试集构造\n",
    "test_x=df.iloc[test_num:].drop(['pct_chg_future','F_low','F_high'],axis=1)\n",
    "test_y=df.iloc[test_num:][['pct_chg_future']]\n",
    "test_y.head()"
   ]
  },
  {
   "cell_type": "code",
   "execution_count": 84,
   "metadata": {},
   "outputs": [],
   "source": [
    "#模型参数设置\n",
    "param={'objective':'regression',\n",
    "       'metric':'regression','max_depth':5,'boosting':'gbdt',\n",
    "      'num_iterations':150,'num_leaves':31,'min_data_in_leaf':500,\n",
    "      'lambda_l2':1.}#max_depth 防止过拟合；多酚类可以用'metric':'multi_logloss'\n",
    "#'bagging_freq':5,'bagging_fraction':0.75,'tree_learner':'voting',"
   ]
  },
  {
   "cell_type": "code",
   "execution_count": 85,
   "metadata": {},
   "outputs": [],
   "source": [
    "# lgb.cv(param,train_data, num_boost_round=100, nfold=10, early_stopping_rounds=90)"
   ]
  },
  {
   "cell_type": "code",
   "execution_count": 86,
   "metadata": {},
   "outputs": [
    {
     "name": "stderr",
     "output_type": "stream",
     "text": [
      "C:\\ProgramData\\Anaconda3\\lib\\site-packages\\lightgbm\\engine.py:148: UserWarning: Found `num_iterations` in params. Will use it instead of argument\n",
      "  warnings.warn(\"Found `{}` in params. Will use it instead of argument\".format(alias))\n"
     ]
    }
   ],
   "source": [
    "#模型拟合\n",
    "num_round=800\n",
    "bst=lgb.train(param,train_data,num_round)"
   ]
  },
  {
   "cell_type": "code",
   "execution_count": 127,
   "metadata": {},
   "outputs": [
    {
     "data": {
      "image/png": "[encoded data removed]",
      "text/plain": [
       "<Figure size 1296x576 with 1 Axes>"
      ]
     },
     "metadata": {
      "needs_background": "light"
     },
     "output_type": "display_data"
    }
   ],
   "source": [
    "#模型预测\n",
    "ypred=bst.predict(test_x)\n",
    "plt.figure(figsize=(18,8))\n",
    "plt.hist(ypred,100)\n",
    "plt.xlim([-0.005,0.005])\n",
    "plt.show()"
   ]
  },
  {
   "cell_type": "code",
   "execution_count": 128,
   "metadata": {},
   "outputs": [
    {
     "data": {
      "text/html": [
       "<div>\n",
       "<style scoped>\n",
       "    .dataframe tbody tr th:only-of-type {\n",
       "        vertical-align: middle;\n",
       "    }\n",
       "\n",
       "    .dataframe tbody tr th {\n",
       "        vertical-align: top;\n",
       "    }\n",
       "\n",
       "    .dataframe thead th {\n",
       "        text-align: right;\n",
       "    }\n",
       "</style>\n",
       "<table border=\"1\" class=\"dataframe\">\n",
       "  <thead>\n",
       "    <tr style=\"text-align: right;\">\n",
       "      <th></th>\n",
       "      <th>pct_chg_future</th>\n",
       "      <th>predict</th>\n",
       "      <th>real_change</th>\n",
       "      <th>pred_change</th>\n",
       "    </tr>\n",
       "    <tr>\n",
       "      <th>TimeStamp</th>\n",
       "      <th></th>\n",
       "      <th></th>\n",
       "      <th></th>\n",
       "      <th></th>\n",
       "    </tr>\n",
       "  </thead>\n",
       "  <tbody>\n",
       "    <tr>\n",
       "      <th>2018-08-14 23:00:00</th>\n",
       "      <td>-0.001073</td>\n",
       "      <td>0.001079</td>\n",
       "      <td>-1</td>\n",
       "      <td>1</td>\n",
       "    </tr>\n",
       "    <tr>\n",
       "      <th>2018-08-15 23:00:00</th>\n",
       "      <td>-0.000093</td>\n",
       "      <td>0.000749</td>\n",
       "      <td>-1</td>\n",
       "      <td>1</td>\n",
       "    </tr>\n",
       "    <tr>\n",
       "      <th>2018-08-16 21:30:00</th>\n",
       "      <td>0.000180</td>\n",
       "      <td>0.000623</td>\n",
       "      <td>1</td>\n",
       "      <td>1</td>\n",
       "    </tr>\n",
       "    <tr>\n",
       "      <th>2018-08-17 00:00:00</th>\n",
       "      <td>0.000724</td>\n",
       "      <td>-0.000654</td>\n",
       "      <td>1</td>\n",
       "      <td>-1</td>\n",
       "    </tr>\n",
       "    <tr>\n",
       "      <th>2018-08-17 14:00:00</th>\n",
       "      <td>-0.006765</td>\n",
       "      <td>-0.000740</td>\n",
       "      <td>-1</td>\n",
       "      <td>-1</td>\n",
       "    </tr>\n",
       "    <tr>\n",
       "      <th>...</th>\n",
       "      <td>...</td>\n",
       "      <td>...</td>\n",
       "      <td>...</td>\n",
       "      <td>...</td>\n",
       "    </tr>\n",
       "    <tr>\n",
       "      <th>2019-03-28 11:15:00</th>\n",
       "      <td>0.001392</td>\n",
       "      <td>-0.000714</td>\n",
       "      <td>1</td>\n",
       "      <td>-1</td>\n",
       "    </tr>\n",
       "    <tr>\n",
       "      <th>2019-03-28 21:45:00</th>\n",
       "      <td>0.001905</td>\n",
       "      <td>0.000907</td>\n",
       "      <td>1</td>\n",
       "      <td>1</td>\n",
       "    </tr>\n",
       "    <tr>\n",
       "      <th>2019-03-28 23:30:00</th>\n",
       "      <td>0.000401</td>\n",
       "      <td>0.000813</td>\n",
       "      <td>1</td>\n",
       "      <td>1</td>\n",
       "    </tr>\n",
       "    <tr>\n",
       "      <th>2019-03-29 09:30:00</th>\n",
       "      <td>0.001098</td>\n",
       "      <td>-0.000824</td>\n",
       "      <td>1</td>\n",
       "      <td>-1</td>\n",
       "    </tr>\n",
       "    <tr>\n",
       "      <th>2019-03-29 11:00:00</th>\n",
       "      <td>-0.001193</td>\n",
       "      <td>-0.000751</td>\n",
       "      <td>-1</td>\n",
       "      <td>-1</td>\n",
       "    </tr>\n",
       "  </tbody>\n",
       "</table>\n",
       "<p>279 rows × 4 columns</p>\n",
       "</div>"
      ],
      "text/plain": [
       "                     pct_chg_future   predict  real_change  pred_change\n",
       "TimeStamp                                                              \n",
       "2018-08-14 23:00:00       -0.001073  0.001079           -1            1\n",
       "2018-08-15 23:00:00       -0.000093  0.000749           -1            1\n",
       "2018-08-16 21:30:00        0.000180  0.000623            1            1\n",
       "2018-08-17 00:00:00        0.000724 -0.000654            1           -1\n",
       "2018-08-17 14:00:00       -0.006765 -0.000740           -1           -1\n",
       "...                             ...       ...          ...          ...\n",
       "2019-03-28 11:15:00        0.001392 -0.000714            1           -1\n",
       "2019-03-28 21:45:00        0.001905  0.000907            1            1\n",
       "2019-03-28 23:30:00        0.000401  0.000813            1            1\n",
       "2019-03-29 09:30:00        0.001098 -0.000824            1           -1\n",
       "2019-03-29 11:00:00       -0.001193 -0.000751           -1           -1\n",
       "\n",
       "[279 rows x 4 columns]"
      ]
     },
     "execution_count": 128,
     "metadata": {},
     "output_type": "execute_result"
    }
   ],
   "source": [
    "test_y['predict']=np.array(ypred)\n",
    "test_y['real_change']=np.nan\n",
    "test_y.loc[test_y['pct_chg_future']>0,['real_change']]=1\n",
    "test_y.loc[test_y['pct_chg_future']==0,['real_change']]=0\n",
    "test_y.loc[test_y['pct_chg_future']<0,['real_change']]=-1\n",
    "\n",
    "points=0.0006\n",
    "test_y['pred_change']=np.nan\n",
    "test_y.loc[test_y['predict']>points,['pred_change']]=1\n",
    "test_y.loc[test_y['predict']<-points,['pred_change']]=-1\n",
    "test_y.loc[(test_y['predict']>=-points)&(test_y['predict']<=points),['pred_change']]=0\n",
    "test_y['pred_change']=test_y['pred_change'].astype(int)\n",
    "test_y['real_change']=test_y['real_change'].astype(int)\n",
    "\n",
    "test_y1=test_y.loc[test_y['pred_change']!=0]\n",
    "test_y1"
   ]
  },
  {
   "cell_type": "code",
   "execution_count": 129,
   "metadata": {},
   "outputs": [
    {
     "data": {
      "text/plain": [
       " 1    53.046595\n",
       "-1    45.519713\n",
       " 0     1.433692\n",
       "Name: real_change, dtype: float64"
      ]
     },
     "execution_count": 129,
     "metadata": {},
     "output_type": "execute_result"
    }
   ],
   "source": [
    "test_y1['real_change'].value_counts()/test_y1.shape[0]*100"
   ]
  },
  {
   "cell_type": "code",
   "execution_count": 130,
   "metadata": {},
   "outputs": [
    {
     "name": "stderr",
     "output_type": "stream",
     "text": [
      "C:\\ProgramData\\Anaconda3\\lib\\site-packages\\ipykernel_launcher.py:2: SettingWithCopyWarning: \n",
      "A value is trying to be set on a copy of a slice from a DataFrame.\n",
      "Try using .loc[row_indexer,col_indexer] = value instead\n",
      "\n",
      "See the caveats in the documentation: http://pandas.pydata.org/pandas-docs/stable/indexing.html#indexing-view-versus-copy\n",
      "  \n",
      "C:\\ProgramData\\Anaconda3\\lib\\site-packages\\ipykernel_launcher.py:3: SettingWithCopyWarning: \n",
      "A value is trying to be set on a copy of a slice from a DataFrame.\n",
      "Try using .loc[row_indexer,col_indexer] = value instead\n",
      "\n",
      "See the caveats in the documentation: http://pandas.pydata.org/pandas-docs/stable/indexing.html#indexing-view-versus-copy\n",
      "  This is separate from the ipykernel package so we can avoid doing imports until\n",
      "C:\\ProgramData\\Anaconda3\\lib\\site-packages\\pandas\\core\\indexing.py:543: SettingWithCopyWarning: \n",
      "A value is trying to be set on a copy of a slice from a DataFrame.\n",
      "Try using .loc[row_indexer,col_indexer] = value instead\n",
      "\n",
      "See the caveats in the documentation: http://pandas.pydata.org/pandas-docs/stable/indexing.html#indexing-view-versus-copy\n",
      "  self.obj[item] = s\n",
      "C:\\ProgramData\\Anaconda3\\lib\\site-packages\\ipykernel_launcher.py:5: SettingWithCopyWarning: \n",
      "A value is trying to be set on a copy of a slice from a DataFrame.\n",
      "Try using .loc[row_indexer,col_indexer] = value instead\n",
      "\n",
      "See the caveats in the documentation: http://pandas.pydata.org/pandas-docs/stable/indexing.html#indexing-view-versus-copy\n",
      "  \"\"\"\n"
     ]
    },
    {
     "data": {
      "text/plain": [
       "1    58.422939\n",
       "0    41.577061\n",
       "Name: accurate, dtype: float64"
      ]
     },
     "execution_count": 130,
     "metadata": {},
     "output_type": "execute_result"
    }
   ],
   "source": [
    "#准确率估计\n",
    "test_y1['accurate']=abs(test_y1['real_change']-test_y1['pred_change'])\n",
    "test_y1['accurate']=test_y1['accurate'].astype(int)\n",
    "test_y1.loc[test_y1['accurate']!=0,['accurate']]=-1\n",
    "test_y1['accurate']=test_y1['accurate']+1\n",
    "accurate_rate=test_y1['accurate'].value_counts()/test_y1.shape[0]*100\n",
    "accurate_rate"
   ]
  },
  {
   "cell_type": "code",
   "execution_count": 131,
   "metadata": {},
   "outputs": [],
   "source": [
    "y1=test_y1.drop(['pct_chg_future'],axis=1)\n",
    "x=df.iloc[test_num:]\n",
    "review=x.join(y1)\n",
    "# review['accurate']=review['accurate'].astype(int)\n",
    "# review['real_change']=review['real_change'].astype(int)\n",
    "# review['pred_change']=review['pred_change'].astype(int)\n",
    "review['action']=review['pred_change']\n",
    "review.loc[~((review['action']>=-10)&(review['action']<=10)),['action']]=0\n",
    "review['action']=review['action'].astype(int)\n",
    "review[['pct_chg_future','action']]\n",
    "# review['action'].value_counts()\n",
    "review.columns\n",
    "review.loc[(review['action']==1)&(review['F_low']>review['close']),['action']]=0\n",
    "review.loc[(review['action']==-1)&(review['F_high']<review['close']),['action']]=0"
   ]
  },
  {
   "cell_type": "code",
   "execution_count": 132,
   "metadata": {},
   "outputs": [],
   "source": [
    "#输出结果\n",
    "output=pd.read_pickle('./raw_data_reg.pkl')\n",
    "output=output[['open', 'high', 'low', 'close', 'volume', 'amt', 'pct_chg', 'PVC',\n",
    "       'SKW', 'KTS', 'SGH', 'SR', 'VOL', 'CSHSKW', 'CSHKTS', 'pct_chg_future']]\n",
    "output=output.join(review[['action']])\n",
    "output=output.rename(columns={'action':'strategy'})\n",
    "output['strategy'].value_counts()\n",
    "output.to_csv('./output.csv')"
   ]
  },
  {
   "cell_type": "code",
   "execution_count": 119,
   "metadata": {},
   "outputs": [
    {
     "name": "stdout",
     "output_type": "stream",
     "text": [
      "Return with no transaction fee: 0.0998443863144219\n",
      "Return after transaction fee: 0.03354707836257265\n",
      "Standard deviation: 0.035870108390829464\n",
      "Sharp Ratio: 0.9352377193024954\n",
      "N: 279\n"
     ]
    }
   ],
   "source": [
    "rtn=(review['pct_chg_future']*review['action']).mean()*252*24\n",
    "print('Return with no transaction fee:',rtn)\n",
    "\n",
    "review['fee']=abs(review['action']-review['action'].shift(1))*0.01/100\n",
    "rtn_actual=(review['pct_chg_future']*review['action']-review['fee']).mean()*252*24\n",
    "print('Return after transaction fee:',rtn_actual)\n",
    "\n",
    "std=(review['pct_chg_future']*review['action']).std()*((252*24)**0.5)\n",
    "print('Standard deviation:',std)\n",
    "\n",
    "Sharp_Ratio=(rtn_actual)/std\n",
    "print('Sharp Ratio:',Sharp_Ratio)\n",
    "\n",
    "print('N:',y1.shape[0])\n",
    "# review['pct_chg_future'].mean()*252*24\n",
    "# review['action'].value_counts()"
   ]
  },
  {
   "cell_type": "code",
   "execution_count": 120,
   "metadata": {},
   "outputs": [],
   "source": [
    "cut_points=np.arange(0.00015,0.0010,0.00001)\n",
    "rtn1=np.zeros(len(cut_points))\n",
    "rtn_actual1=np.zeros(len(cut_points))\n",
    "std1=np.zeros(len(cut_points))\n",
    "SR1=np.zeros(len(cut_points))\n",
    "x=df.iloc[test_num:]\n",
    "for i in range(len(cut_points)):\n",
    "    test_y['pred_change']=np.nan\n",
    "    test_y.loc[test_y['predict']>cut_points[i],['pred_change']]=1\n",
    "    test_y.loc[test_y['predict']<-cut_points[i],['pred_change']]=-1\n",
    "    test_y.loc[(test_y['predict']>=-cut_points[i])&(test_y['predict']<=cut_points[i]),['pred_change']]=0\n",
    "    test_y['pred_change']=test_y['pred_change'].astype(int)\n",
    "    test_y['real_change']=test_y['real_change'].astype(int)\n",
    "    test_y1=test_y.loc[test_y['pred_change']!=0]\n",
    "    y1=test_y1.drop(['pct_chg_future'],axis=1)\n",
    "    \n",
    "    review=x.join(y1)\n",
    "    review['action']=review['pred_change']\n",
    "    review.loc[~((review['action']>=-10)&(review['action']<=10)),['action']]=0\n",
    "    review['action']=review['action'].astype(int)\n",
    "    review[['pct_chg_future','action']]\n",
    "    review.loc[(review['action']==1)&(review['F_low']>review['close']),['action']]=0\n",
    "    review.loc[(review['action']==-1)&(review['F_high']<review['close']),['action']]=0\n",
    "    \n",
    "    rtn1[i]=(review['pct_chg_future']*review['action']).mean()*252*24\n",
    "    review['fee']=abs(review['action']-review['action'].shift(1))*0.01/100\n",
    "    rtn_actual1[i]=(review['pct_chg_future']*review['action']-review['fee']).mean()*252*24\n",
    "    std1[i]=(review['pct_chg_future']*review['action']).std()*((252*24)**0.5)\n",
    "    SR1[i]=(rtn_actual1[i])/std1[i]"
   ]
  },
  {
   "cell_type": "code",
   "execution_count": 121,
   "metadata": {},
   "outputs": [
    {
     "data": {
      "image/png": "[encoded data removed]",
      "text/plain": [
       "<Figure size 1080x1080 with 4 Axes>"
      ]
     },
     "metadata": {
      "needs_background": "light"
     },
     "output_type": "display_data"
    }
   ],
   "source": [
    "plt.figure(figsize=(15,15))\n",
    "plt.subplot(221)\n",
    "plt.plot(cut_points,rtn1)\n",
    "plt.xlabel('cut_points')\n",
    "plt.ylabel('Return without transaction fee')\n",
    "plt.subplot(222)\n",
    "plt.plot(cut_points,rtn_actual1)\n",
    "plt.xlabel('cut_points')\n",
    "plt.ylabel('Return with transaction fee')\n",
    "plt.subplot(223)\n",
    "plt.plot(cut_points,std1)\n",
    "plt.xlabel('cut_points')\n",
    "plt.ylabel('Standard Deviation')\n",
    "plt.subplot(224)\n",
    "plt.plot(cut_points,SR1)\n",
    "plt.xlabel('cut_points')\n",
    "plt.ylabel('Sharp Ratio')\n",
    "plt.show()"
   ]
  },
  {
   "cell_type": "code",
   "execution_count": 122,
   "metadata": {},
   "outputs": [
    {
     "data": {
      "text/plain": [
       " 1    52.653548\n",
       "-1    45.259392\n",
       " 0     2.087060\n",
       "Name: real_change, dtype: float64"
      ]
     },
     "execution_count": 122,
     "metadata": {},
     "output_type": "execute_result"
    }
   ],
   "source": [
    "y_train=df.iloc[:test_num][['pct_chg_future']]\n",
    "x_train=df.iloc[:test_num].drop(['pct_chg_future'],axis=1)\n",
    "ytrained=bst.predict(x_train)\n",
    "\n",
    "y_train['predict']=np.array(ytrained)\n",
    "y_train['real_change']=np.nan\n",
    "y_train.loc[y_train['pct_chg_future']>0,['real_change']]=1\n",
    "y_train.loc[y_train['pct_chg_future']==0,['real_change']]=0\n",
    "y_train.loc[y_train['pct_chg_future']<0,['real_change']]=-1\n",
    "\n",
    "points=0.00054\n",
    "y_train['pred_change']=np.nan\n",
    "y_train.loc[y_train['predict']>points,['pred_change']]=1\n",
    "y_train.loc[y_train['predict']<-points,['pred_change']]=-1\n",
    "y_train.loc[(y_train['predict']>=-points)&(y_train['predict']<=points),['pred_change']]=0\n",
    "y_train['pred_change']=y_train['pred_change'].astype(int)\n",
    "y_train['real_change']=y_train['real_change'].astype(int)\n",
    "\n",
    "y_train1=y_train.loc[y_train['pred_change']!=0]\n",
    "\n",
    "y_train1['real_change'].value_counts()/y_train1.shape[0]*100"
   ]
  },
  {
   "cell_type": "code",
   "execution_count": 123,
   "metadata": {},
   "outputs": [
    {
     "name": "stderr",
     "output_type": "stream",
     "text": [
      "C:\\ProgramData\\Anaconda3\\lib\\site-packages\\ipykernel_launcher.py:1: SettingWithCopyWarning: \n",
      "A value is trying to be set on a copy of a slice from a DataFrame.\n",
      "Try using .loc[row_indexer,col_indexer] = value instead\n",
      "\n",
      "See the caveats in the documentation: http://pandas.pydata.org/pandas-docs/stable/indexing.html#indexing-view-versus-copy\n",
      "  \"\"\"Entry point for launching an IPython kernel.\n",
      "C:\\ProgramData\\Anaconda3\\lib\\site-packages\\ipykernel_launcher.py:2: SettingWithCopyWarning: \n",
      "A value is trying to be set on a copy of a slice from a DataFrame.\n",
      "Try using .loc[row_indexer,col_indexer] = value instead\n",
      "\n",
      "See the caveats in the documentation: http://pandas.pydata.org/pandas-docs/stable/indexing.html#indexing-view-versus-copy\n",
      "  \n",
      "C:\\ProgramData\\Anaconda3\\lib\\site-packages\\ipykernel_launcher.py:4: SettingWithCopyWarning: \n",
      "A value is trying to be set on a copy of a slice from a DataFrame.\n",
      "Try using .loc[row_indexer,col_indexer] = value instead\n",
      "\n",
      "See the caveats in the documentation: http://pandas.pydata.org/pandas-docs/stable/indexing.html#indexing-view-versus-copy\n",
      "  after removing the cwd from sys.path.\n"
     ]
    },
    {
     "data": {
      "text/plain": [
       "1    77.400119\n",
       "0    22.599881\n",
       "Name: accurate, dtype: float64"
      ]
     },
     "execution_count": 123,
     "metadata": {},
     "output_type": "execute_result"
    }
   ],
   "source": [
    "y_train1['accurate']=abs(y_train1['real_change']-y_train1['pred_change'])\n",
    "y_train1['accurate']=y_train1['accurate'].astype(int)\n",
    "y_train1.loc[y_train1['accurate']!=0,['accurate']]=-1\n",
    "y_train1['accurate']=y_train1['accurate']+1\n",
    "accurate_rate_train=y_train1['accurate'].value_counts()/y_train1.shape[0]*100\n",
    "accurate_rate_train"
   ]
  },
  {
   "cell_type": "code",
   "execution_count": null,
   "metadata": {},
   "outputs": [],
   "source": []
  }
 ],
 "metadata": {
  "kernelspec": {
   "display_name": "Python 3",
   "language": "python",
   "name": "python3"
  },
  "language_info": {
   "codemirror_mode": {
    "name": "ipython",
    "version": 3
   },
   "file_extension": ".py",
   "mimetype": "text/x-python",
   "name": "python",
   "nbconvert_exporter": "python",
   "pygments_lexer": "ipython3",
   "version": "3.7.3"
  }
 },
 "nbformat": 4,
 "nbformat_minor": 2
}
